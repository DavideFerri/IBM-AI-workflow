{
    "cells": [
        {
            "attachments": {
                "ibm-cloud.png": {
                    "image/png": "[encoded data removed]"
                }
            },
            "cell_type": "markdown",
            "metadata": {},
            "source": "![ibm-cloud.png](attachment:ibm-cloud.png)\n# CASE STUDY - convolutional neural networks"
        },
        {
            "cell_type": "code",
            "execution_count": null,
            "metadata": {},
            "outputs": [],
            "source": "from __future__ import absolute_import, division, print_function, unicode_literals\n\nimport os\nimport csv\nimport joblib\nimport time\nfrom collections import Counter\nimport numpy as np\nimport pandas as pd\nfrom tensorflow import keras\nfrom tensorflow.keras.utils import to_categorical\nimport matplotlib.pyplot as plt\n\nplt.style.use('seaborn')\n%matplotlib inline"
        },
        {
            "cell_type": "code",
            "execution_count": null,
            "metadata": {},
            "outputs": [],
            "source": "from sklearn.ensemble import RandomForestClassifier\nfrom sklearn.preprocessing import StandardScaler\nfrom sklearn.pipeline import Pipeline\nfrom sklearn.model_selection import GridSearchCV\nfrom sklearn.metrics import classification_report\nfrom sklearn.decomposition import PCA"
        },
        {
            "cell_type": "markdown",
            "metadata": {},
            "source": "Synopsis\n----------\n\nYou were hired at AAVAIL to be a member of a data science team that works closely together.  Some of your first projects\nare meant to help marketing with customer retention and to investigate market specific trends. There are also some\nprojects relating to user comments that are getting off the ground.  However, you will also be working alongside\nthe deep-learning specialists that maintain the core product at AAVAIL---its audio and visual manipulation models.\n\nBecause the team meets regularly all new data science hires are expected to go through a series deep-learning tutorials\nto ensure that they can contribute to conversations about the core product.   The first in this series is the following\ntutorial on CNNs.  You will be guided through the following parts.\n\n  1. Environment setup\n  2. Model scaffolding using Keras\n  3. Logging and Model serialization\n  4. Model iteration"
        },
        {
            "cell_type": "markdown",
            "metadata": {},
            "source": "## Fashion MNIST\n\n>One project that the data science team at AAVAIL has been tasked with is ensuring that the video feeds are in fact news video feeds.  There are people that are performing quality assurance on these feeds, but eventually the data science team will need to build a service that samples a number of frames from a video, then identifies objects in the images, flagging for review any feeds that may be different.\n\nA solid benchmark dataset for this task is the Fashion MNIST dataset.  \n\n* training set - 60,000 images\n* test set - 10,000 images\n* images are 28 pixels x 28 pixels\n* classes: T-shirt/top, Trouser, Pullover, Dress, Coat, Sandal, Shirt, Sneaker, Bag, Ankle boot"
        },
        {
            "cell_type": "markdown",
            "metadata": {},
            "source": "## PART 1 - environment setup"
        },
        {
            "cell_type": "code",
            "execution_count": null,
            "metadata": {},
            "outputs": [],
            "source": "### load the data  \nfashion_mnist = keras.datasets.fashion_mnist\n(train_images, train_labels), (test_images, test_labels) = fashion_mnist.load_data() \nclass_names = ['T-shirt/top', 'Trouser', 'Pullover', 'Dress', 'Coat', 'Sandal', 'Shirt', \n               'Sneaker', 'Bag', 'Ankle boot']\nnum_classes = len(class_names)\n\n## Normalize pixel values to be between 0 and 1\ntrain_images, test_images = train_images / 255.0, test_images / 255.0\n\nX_train = train_images\nX_test = test_images\ny_train = train_labels\ny_test = test_labels"
        },
        {
            "cell_type": "markdown",
            "metadata": {},
            "source": "### QUESTION 1\n\nVisualize a sample of the images to QA the data set (for instance plot one image of each class). Then, print a summary of the data (for instance, the shape of training set, the shape of the test set, the number of sample per class...)."
        },
        {
            "cell_type": "code",
            "execution_count": null,
            "metadata": {},
            "outputs": [],
            "source": "## YOUR CODE HERE (visualization code)\n\ndef show_img(img_ind):\n    fig = plt.figure(figsize=(6,4),dpi=150,facecolor='white')\n    ax = fig.add_subplot(111)\n\n    ax.imshow(train_images[img_ind])\n    ax.grid(False)\n    ax.set_title(class_names[train_labels[img_ind]])\n    \nfig = plt.figure(figsize=(10,8),dpi=150,facecolor='white')\noffset = 25\nfor i in range(25):\n    ax = fig.add_subplot(5,5,i+1)\n    ax.set_xticks([])\n    ax.set_yticks([])\n    ax.grid(False)\n    ax.imshow(train_images[i+offset], cmap=plt.cm.binary)\n    ax.set_xlabel(class_names[train_labels[i+offset]])"
        },
        {
            "cell_type": "code",
            "execution_count": null,
            "metadata": {},
            "outputs": [],
            "source": "## YOUR CODE HERE (Summarize the data)\n\nprint(\"-------------------------------------------\")\nprint(\"X_train: {}\".format(X_train.shape))\nclass_info = list(sorted(Counter(y_train).items()))\nprint(\"num classes: {}, classes: {}\".format(len(class_info), [i[0] for i in class_info]))\nprint(\"class samples: {}\".format([i[1] for i in class_info]))\nprint(\"class balance: {}\".format([round(i[1]/X_train.shape[0],2) for i in class_info]))\nprint(\"-------------------------------------------\")\n"
        },
        {
            "cell_type": "markdown",
            "metadata": {},
            "source": "Take a moment to understand how the data set is built, especially what are the 3 dimensions of X_train and X_test."
        },
        {
            "cell_type": "markdown",
            "metadata": {},
            "source": "### QUESTION 2\n\nIn this question you are asked to build a base model. The base model that we want to build is composed of a PCA model followed by a classic machine learning classifier. The PCA takes as input the images that have been flattened and creates a representation of the images with few features (the first n principal components). Then, the classifier will classify the images based on this reduced representation. Following the best practices we will create a sklearn Pipeline and pass this pipeline in a grid search to optimize the hyper parameters. You are free to use the classifier that you think will perform best in this pipeline."
        },
        {
            "cell_type": "code",
            "execution_count": null,
            "metadata": {},
            "outputs": [],
            "source": "## YOUR CODE HERE (Replace the symbole #<> with your code)\n\n# First we flatten the images to have a data shape that can be ingested by the PCA model.\n# Take a moment to understand what does this function (flatten()) do to the images \n# and why this step is necessary.\nX_train_flat = np.array([i.flatten() for i in train_images])\nX_test_flat = np.array([i.flatten() for i in test_images])\n\npipe = Pipeline([('pca', PCA(n_components=50)),\n                 ('clf', RandomForestClassifier(n_estimators=100))])\n\n\nif not os.path.isdir(\"saved\"):\n    os.mkdir(\"saved\")\n\n## we create a \"saved\" folder to save the trained model.\nsaved_model = os.path.join(\"saved\",'pca-rf.joblib')\nif not os.path.exists(saved_model):\n    time_start = time.time()\n    pipe.fit(X_train_flat, y_train)\n    print(\"saving the pipeline\")\n    joblib.dump(pipe, saved_model)\n    print(\"train time\", time.strftime('%H:%M:%S', time.gmtime(time.time()-time_start)))\nelse:\n    print(\"loading {} from file\".format(saved_model))\n    pipe = joblib.load(saved_model)\n    "
        },
        {
            "cell_type": "code",
            "execution_count": null,
            "metadata": {},
            "outputs": [],
            "source": "## YOUR CODE HERE (Replace the symbole #<> with your code)\n# Evaluate your model using the classification_report() function\ny_pred = pipe.predict(X_test_flat)\nprint(\"-->\".join(pipe.named_steps.keys()))\nprint(classification_report(y_test, y_pred, target_names=np.array(class_names)))\n"
        },
        {
            "cell_type": "markdown",
            "metadata": {},
            "source": "## PART 2 -  model scaffolding using Keras\n\nCreate a function that returns a model using ``keras.models.Sequential()`` and ensure that you pass ``activation_function`` as an argument.  Instaintiate a version of the model and print the summary.  This function is just meant to return a simple multilayer perceptron network.\n"
        },
        {
            "cell_type": "markdown",
            "metadata": {},
            "source": "### QUESTION 3\n\nIn this question you are asked to build a function that created a simple multilayer perceptron network. To build a sequential model we first need to initialize the Sequential object, then we sequentially add the layers of the model to that object using the add() method.\n\nIf your are not familiar with the Sequential class of Keras take a quick look at this documentation : https://keras.io/api/models/sequential/\n\nThe following link list all the layers that you can add to a Keras sequential object : https://keras.io/api/layers/\n"
        },
        {
            "cell_type": "code",
            "execution_count": null,
            "metadata": {
                "scrolled": true
            },
            "outputs": [],
            "source": "## YOUR CODE HERE (Replace the symbole #<> with your code)\n\ndef build_mlp():\n    \"\"\"\n    This Function creates a simple Dense (or multilayer perceptron) network.\n    \"\"\"\n    \n    # Initialize the Sequential object\n    model = keras.Sequential()\n    # add a Flatten layer to the sequence\n    model.add(keras.layers.Flatten(input_shape=(28, 28)))\n    # add a Dense layer to the sequence\n    model.add(keras.layers.Dense(128, activation='relu'))\n    # add the last dense layer to the sequence. Because this is the output layer, \n    # the output dimension should be equal to the number of class that your want to predict.\n    model.add(keras.layers.Dense(10, activation='softmax'))   \n\n      \n    return model\n\nmodel_simple = build_mlp()\nmodel_simple.summary()"
        },
        {
            "cell_type": "markdown",
            "metadata": {},
            "source": "We encourage you to modify the structure of the network. You can add new layers, change the number of neurons per layer or add dropout layers."
        },
        {
            "cell_type": "markdown",
            "metadata": {},
            "source": "### QUESTION 4\n\nCreate another version of your neural network.  This time you should build a proper CNN.  Remember that one pattern to consider starting from is alternating ``Con2D`` and ``MaxPooling2D`` layers.  This is often followed by a couple of ``Dense`` layers.  Recall that the output of every Conv2D and MaxPooling2D layer is a 3D tensor of shape (height, width, channels). The output of the last ``Dense`` layer should correspond to the number of classes and generally uses a 'softmax' activation.  Use `model.summary()` to ensure a cohesive architecture."
        },
        {
            "cell_type": "code",
            "execution_count": null,
            "metadata": {
                "scrolled": true
            },
            "outputs": [],
            "source": "## YOUR CODE HERE\n\n\ndef build_cnn(dropout=None):\n    \"\"\"\n    This function creates a convolutional neural network (cnn)\n    \"\"\"\n    \n    if not dropout:\n        dropout = [False,False]\n    \n    model = keras.Sequential()\n    \n    model.add(keras.layers.Conv2D(28, (3, 3), activation='relu', input_shape=(28, 28, 1)))\n    model.add(keras.layers.MaxPooling2D((2, 2)))\n    \n    if dropout[0]:\n        model.add(tf.keras.layers.Dropout(0.3))\n    \n    model.add(keras.layers.Conv2D(64, (3, 3), activation='relu'))\n    model.add(keras.layers.MaxPooling2D((2, 2)))\n    \n    if dropout[0]:\n        model.add(tf.keras.layers.Dropout(0.3))\n    \n    model.add(keras.layers.Conv2D(64, (3, 3), activation='relu'))\n    \n    model.add(keras.layers.Flatten())\n    model.add(keras.layers.Dense(64, activation='relu'))\n    model.add(keras.layers.Dense(10, activation='softmax'))\n    return model \n\n\nmodel = build_cnn()\nmodel.summary()"
        },
        {
            "cell_type": "markdown",
            "metadata": {},
            "source": "## PART 3 - logging and Model serialization\n\nYou can use a trained model without having to retrain it.  Your can also continue training a model to pick-up training where you left off.  The `tf.keras.callbacks.ModelCheckpoint` callback allows to continually save the model both during and at the end of training.  For long running models this is ideal in case the training is interrupted.  Otherwise you can \nused `model.save()` and `model.load()`.  In this part you will create a function that accomplished a few things at once. "
        },
        {
            "cell_type": "markdown",
            "metadata": {},
            "source": "### QUESTION 5\n\nIn this question you will create a function that intend to :\n\n1. save your models so that each iteration only needs to be run once\n2. save the specifics of your model in a log file \n\n  * optimizer \n  * loss_fn \n  * test_loss\n  * test_accuracy\n  * any notes"
        },
        {
            "cell_type": "code",
            "execution_count": null,
            "metadata": {},
            "outputs": [],
            "source": "## YOUR CODE HERE\n\ndef train_network(model_name, model, loss_fn, X_train, y_train, X_test, y_test, optimizer='adam'):\n    \"\"\"\n    This function compiles, trains and saves the keras model\n    Input : \n        - model_name : the name of the model (we will save the model under this name)\n        - model : The keras Sequential model\n        - loss_fn : the name of the loss function used to train the model (https://keras.io/api/losses/)\n        - opitmizer : the name of the optimizer used to train the model (https://keras.io/api/optimizers/)\n        - X_train : the training data\n        - y_train : the training labels\n        - X_test : the test data\n        - y_test : the test labels\n    \"\"\"\n\n    # First we create a filename for the model joining its name with the \"saved\" directory\n    save_dir = 'saved'\n    if not os.path.isdir(save_dir):\n        os.mkdir(save_dir)\n\n    saved_model = os.path.join(save_dir, \"{}.h5\".format(model_name))\n\n    ## compile the model\n    if not os.path.exists(saved_model):\n        ## compile model using the compile method of the keras.models.Sequential class\n        model.compile(optimizer=optimizer,\n                      loss=loss_fn,\n                      metrics=['accuracy'])\n        ## fit the model using the fit method of the keras.models.Sequential class\n        model.fit(X_train,\n                  y_train,\n                  batch_size=64,\n                  epochs=5,\n                  validation_data=(X_test, y_test))\n        \n        # Save the model\n        model.save(saved_model)\n\n        ## evaluate model\n        test_loss, test_acc = model.evaluate(X_test,  y_test, verbose=2)    \n        \n        ## save a log file\n        log_file = os.path.join(save_dir,\"{}.log\".format(model_name)) \n        with open(log_file, 'w') as csvfile:\n            writer = csv.writer(csvfile)\n            writer.writerow([\"loss_function\", loss_fn])\n            writer.writerow([\"optimizer\", optimizer])\n            writer.writerow([\"test_loss\", test_loss])\n            writer.writerow([\"test_acc\", test_acc])\n\n    else:\n        print(\"... loading saved model\")\n        model = keras.models.load_model(saved_model)\n                    \n    return model"
        },
        {
            "cell_type": "markdown",
            "metadata": {},
            "source": "## PART 4 - model iteration"
        },
        {
            "cell_type": "markdown",
            "metadata": {},
            "source": "### Question 6\n\nUsing the functions that you created in the previous questions build the model and train it on the MNIST dataset."
        },
        {
            "cell_type": "code",
            "execution_count": null,
            "metadata": {
                "scrolled": true
            },
            "outputs": [],
            "source": "## YOUR CODE HERE (build and train a mulitlayer perception classifier)\n\nmodel_mlp = build_mlp()\nmodel_mlp = train_network(\"simple_mlp\", model_mlp, \"sparse_categorical_crossentropy\",\n                          X_train,\n                          y_train,\n                          X_test,\n                          y_test,\n                          optimizer='adam')\n"
        },
        {
            "cell_type": "code",
            "execution_count": null,
            "metadata": {},
            "outputs": [],
            "source": "## YOUR CODE HERE (build and train a CNN)\n\n## For the CNN we have to add a third dimension to each sample image. \n## This dimension is called channel and is expected by the CNN2D layer. \n## Here the channel value is 1 because we have black and white images. \n## We would have to set this value to 3 for colored images.\nX_train_1 = np.expand_dims(X_train, -1)\nX_test_1 = np.expand_dims(X_test, -1)\n\nmodel_cnn = build_cnn()\nmodel_cnn = train_network(\"cnn\", model_cnn, \"sparse_categorical_crossentropy\", \n                          X_train_1,\n                          y_train,\n                          X_test_1,\n                          y_test,\n                          optimizer='adam')"
        }
    ],
    "metadata": {
        "kernelspec": {
            "display_name": "Python 3.6",
            "language": "python",
            "name": "python3"
        },
        "language_info": {
            "codemirror_mode": {
                "name": "ipython",
                "version": 3
            },
            "file_extension": ".py",
            "mimetype": "text/x-python",
            "name": "python",
            "nbconvert_exporter": "python",
            "pygments_lexer": "ipython3",
            "version": "3.6.9"
        }
    },
    "nbformat": 4,
    "nbformat_minor": 4
}