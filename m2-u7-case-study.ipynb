{
    "cells": [
        {
            "attachments": {
                "ibm-cloud.png": {
                    "image/png": "[encoded data removed]"
                }
            },
            "cell_type": "markdown",
            "metadata": {},
            "source": "![ibm-cloud.png](attachment:ibm-cloud.png)\n\n\n## Setup your notebook file stystem on Watson Studio\n\nAll of the notebooks in these courses are written to run locally on your computer running a Jupyter notebook server.  If you wish to run the notebooks in Watson Studio in the IBM Cloud, you will need to add some modifications to each notebook.\n\nWhy?  Because once you import a course notebook and the data files for that notebook into a Watson Studio project, the data files are no longer available to the notebook! \nThis is simply due to the fact that the imported data files are stored in an IBM Cloud Object Storage (COS) bucket.  The notebook does not have access to those objects in the COS bucket.  Thus, if you import a notebook and its data files into a Studio project then try to run it, the notebook will return \"File not found\" errors. \nIn order to make the data files available to your notebook, you will need to run some code in your notebook to: \n\n1 - Access the correct COS bucket <br>\n2 - Read your data file from the bucket into a byte stream object <br>\n3 - Write that byte stream object to the virtual disk of the container running the notebook. "
        },
        {
            "cell_type": "code",
            "execution_count": null,
            "metadata": {},
            "outputs": [],
            "source": "# The code was removed by Watson Studio for sharing."
        },
        {
            "cell_type": "code",
            "execution_count": null,
            "metadata": {},
            "outputs": [],
            "source": "# cos2file - takes an object from Cloud Object Storage and writes it to file on container file system.\n# Uses the IBM project_lib library.\n# See https://dataplatform.cloud.ibm.com/docs/content/wsj/analyze-data/project-lib-python.html\n# Arguments:\n# p: project object defined in project token\n# data_path: the directory to write the file\n# filename: name of the file in COS\n\nimport os\ndef cos2file(p,data_path,filename):\n    data_dir = p.project_context.home + data_path\n    if not os.path.exists(data_dir):\n        os.makedirs(data_dir)\n    open( data_dir + '/' + filename, 'wb').write(p.get_file(filename).read())"
        },
        {
            "cell_type": "code",
            "execution_count": null,
            "metadata": {},
            "outputs": [],
            "source": "# Calling cos2file allows to make the data files available to the notebook \ncos2file(project, '/data', 'worldcup-2018.csv')"
        },
        {
            "attachments": {},
            "cell_type": "markdown",
            "metadata": {},
            "source": "# Case Study - Multiple testing"
        },
        {
            "cell_type": "markdown",
            "metadata": {},
            "source": "## Synopsis\n\nThe management team at AAVAIL is preparing to deploy a large number of teams each tasked with integration into a different new market.  They claim to have a optimized the teams fairly with respect to skills and experience.  They are asking you to come up with a framework to evaluate the makeup of their teams.  They have not finished hiring and creating all of the teams so naturally before you even get the data you wanted to get a head start.\n\nGetting a head start usually involves finding a similar dataset and writing the code in a way that the new data, once obtained can be added with little effort."
        },
        {
            "cell_type": "markdown",
            "metadata": {},
            "source": "When we perform a large number of statistical tests, some will have $p$-values less than the designated level of $\\alpha$ (e.g. 0.05) purely by chance, even if all the null hypotheses are really true.  This is an inherent risk of using inferrential statistics.  Fortunately, there are several techniques to mitigate the risk.\n\nWe are going to look at the 2018 world cup data in this example.  \n\nThe case study is comprised of the following sections:\n\n1. Data Cleaning\n2. Data Visualization\n3. NHT\n4. Adjust NHT results for multiple comparisons\n\nData science work that focuses on creating a predictive model is perhaps the hallmark of the field today, but there are still many use cases where [inferential statistics](https://en.wikipedia.org/wiki/Statistical_inference) are the best tool available. One issue with statistical inference is that there are situations where [performing multiple tests](https://en.wikipedia.org/wiki/Multiple_comparisons_problem) is a  logical way to accomplish a task, but it comes at the expense of an increased rate of false positives or Type I errors.\n\nIn this case study you will apply techniques and knowledge from all of the units in Module 2."
        },
        {
            "cell_type": "markdown",
            "metadata": {},
            "source": "## Getting started\n\n**This unit is interactive**.  During this unit we encourage you to [open this file as a notebook](https://jupyter-notebook-beginner-guide.readthedocs.io/en/latest).  Download the notebook from the following link then open it locally using a Jupyter server or use your IBM cloud account to login to Watson Studio.  Inside of Waston Studio cloud if you have not already ensure that this notebook is loaded as part of the *project* for this course. As a reminder fill in all of the places in this notebook marked with ***YOUR CODE HERE*** or ***YOUR ANSWER HERE***.  The data and notebook for this unit are available below.\n\n* [m2-u7-case-study.ipynb](m2-u7-case-study.ipynb)\n* [worldcup-2018.csv](./data/worldcup-2018.csv)\n\nThis unit is organized into the following sections:\n\n1. Data Processing\n2. Data Summary\n3. Investigative Visualization\n4. Hypothesis testing\n\n#### Resources\n\n* [Creating or uploading a notebook in IBM cloud](https://dataplatform.cloud.ibm.com/docs/content/wsj/analyze-data/creating-notebooks.html)\n* [Resources for multiple testing in Python](https://www.statsmodels.org/stable/generated/statsmodels.stats.multitest.multipletests.html)"
        },
        {
            "cell_type": "code",
            "execution_count": null,
            "metadata": {},
            "outputs": [],
            "source": "import os\nimport re\nimport numpy as np\nimport pandas as pd\nimport scipy.stats as stats\nimport statsmodels as sm\n\nimport matplotlib.pyplot as plt\nplt.style.use('seaborn')\n\n%matplotlib inline\n\nSMALL_SIZE = 8\nMEDIUM_SIZE = 10\nLARGE_SIZE = 12\n\nplt.rc('font', size=SMALL_SIZE)          # controls default text sizes\nplt.rc('axes', titlesize=SMALL_SIZE)     # fontsize of the axes title\nplt.rc('axes', labelsize=MEDIUM_SIZE)    # fontsize of the x and y labels\nplt.rc('xtick', labelsize=SMALL_SIZE)    # fontsize of the tick labels\nplt.rc('ytick', labelsize=SMALL_SIZE)    # fontsize of the tick labels\nplt.rc('legend', fontsize=SMALL_SIZE)    # legend fontsize\nplt.rc('figure', titlesize=LARGE_SIZE)   # fontsize of the figure title"
        },
        {
            "cell_type": "markdown",
            "metadata": {},
            "source": "## Import the Data"
        },
        {
            "cell_type": "markdown",
            "metadata": {},
            "source": "Before we jump into the data it can be useful to give a little background so that you can better understand the features.  Since the dawn of statistics practitioners have been trying to find advantages when it comes to games.  Much of this was motivated by gambling---here we will look at the results from this tournament in a different way.  We are going to ask the simple question\n\n  >Was the tournament setup in a fair way?\n\nOf course the findings from an investigation centering around this question could be used to strategically place bets, but lets assume that we are simply interested in whether or not the tournament organizers did an adequate job.  The reason for doing this is to prepare for the AAVAIL data that is coming.  This exercise is an important reminder that you do not have to wait until the day that data arrive to start your work. \n\nThere are 32 teams, each representing a single country, that compete in groups or pools then the best teams from those groups compete in a single elimination tournament to see who will become world champions.  This is by far the world's most popular sport so one would hope that the governing organization FIFA did a good job composing the pools.  If for example there are 8 highly ranked teams then each of those teams should be in a different pool. \n\nIn our data set we have more than just rank so we can dig in a little deeper than that, but first let's have a look at the data."
        },
        {
            "cell_type": "code",
            "execution_count": null,
            "metadata": {},
            "outputs": [],
            "source": "DATA_DIR = os.path.join(\"..\",\"data\")\ndf = pd.read_csv(os.path.join(DATA_DIR, 'worldcup-2018.csv'))\ndf.columns = [re.sub(\"\\s+\",\"_\",col.lower()) for col in df.columns]\ndf.head()"
        },
        {
            "cell_type": "markdown",
            "metadata": {},
            "source": "To limit the dataset for educational purposes we create a new data frame that consists of only the following columns: \n\n* team\n* group\n* previous_appearances\n* previous_titles\n* previous_finals\n* previous_semifinals\n* current_fifa_rank"
        },
        {
            "cell_type": "markdown",
            "metadata": {},
            "source": "## Data Processing\n\n### QUESTION 1\n\nUsing the column names below create a new dataframe that uses only them."
        },
        {
            "cell_type": "code",
            "execution_count": null,
            "metadata": {},
            "outputs": [],
            "source": "columns = ['team', 'group','previous_appearances','previous_titles','previous_finals',\n           'previous_semifinals','current_fifa_rank']\n\n### YOUR CODE HERE\n\n"
        },
        {
            "cell_type": "markdown",
            "metadata": {},
            "source": "To help with this analysis we are going to engineer a feature that combines all of the data in the table.  This feature represents the past performance of a team.  Given the data we have it is the best proxy on hand for how good a team will perfom.  Feel free to change the multiplers, but let's just say that `past_performance` will be a linear combination of the related features we have.\n\nLet $X_{1}$,...,$X_{4}$ be `previous_titles`,`previous_finals`,`previous_semifinals`,`previous_appearances` and let the corresponding vector $\\mathbf{\\alpha}$ be the multipliers.  This will give us,\n\n$$\n\\textrm{past_performance} = \\alpha_{1} X_{1} + \\alpha_{2} X_{2} + \\alpha_{3} X_{3} + \\alpha_{4} X_{4}\n$$\n\nModify $\\mathbf{\\alpha}$ if you wish.  Then add to your dataframe the new feature `past_performance`.\n\n### QUESTION 2\n\ncreate the engineered feature as a new column"
        },
        {
            "cell_type": "code",
            "execution_count": null,
            "metadata": {},
            "outputs": [],
            "source": "alpha = np.array([16,8,4,1])\n\n### YOUR CODE HERE\n\n\n"
        },
        {
            "cell_type": "markdown",
            "metadata": {},
            "source": "## Data Summary"
        },
        {
            "cell_type": "markdown",
            "metadata": {},
            "source": "### QUESTION 3\n\nUsing your choice of tools create one or more **tabular summaries** of the data"
        },
        {
            "cell_type": "code",
            "execution_count": null,
            "metadata": {},
            "outputs": [],
            "source": "### YOUR CODE HERE\n\n\n"
        },
        {
            "cell_type": "markdown",
            "metadata": {},
            "source": "### QUESTION 4\n\nCheck for missing data. Write code to identify if there is any missing data."
        },
        {
            "cell_type": "code",
            "execution_count": null,
            "metadata": {},
            "outputs": [],
            "source": "### YOUR CODE HERE\n\n"
        },
        {
            "cell_type": "markdown",
            "metadata": {},
            "source": "## Investigative Visualization\n\n### QUESTION 5\n\nCome up with one or more plots that investigate the central question... Are the groups comprised in a fair way?"
        },
        {
            "cell_type": "code",
            "execution_count": null,
            "metadata": {},
            "outputs": [],
            "source": "### YOUR CODE HERE\n\n\n\n"
        },
        {
            "cell_type": "markdown",
            "metadata": {},
            "source": "## Hypothesis Testing\n\nThere are a number of ways to use hypothesis testing in this situation.  There are certainly reasonable hypotheses tests and other methods like simulation approaches, that we have not discussed, but they would be appropriate here.  If you choose to explore some of the methods that are outside the scope of this course then we encourage you to first try the simple approach proposed here and compare the results to any further additional approaches you choose to use.\n\nWe could use an ANOVA approach here that would signify a difference between groups, but we would not know which and how many teams were different.  As we stated before there are a number of ways to approach the investigation, but lets use a simple approach.  We are going to setup our investigation to look at all pairwise comparisons to provide as much insight as possible.\n\nRecall that there are $\\frac{(N-1)(N)}{2}$ pairwise comparisons."
        },
        {
            "cell_type": "code",
            "execution_count": null,
            "metadata": {},
            "outputs": [],
            "source": "N = np.unique(df['group'].values).size\nprint(\"num comparisons: \",((N-1)*N) / 2.0)"
        },
        {
            "cell_type": "markdown",
            "metadata": {},
            "source": "### QUESTION 5\n\n\n1. Choose a hypothesis test\n2. State the null and alternative hypothesis, and choose a cutoff value $\\alpha$\n3. Run the test for all pairwise comparisons between teams"
        },
        {
            "cell_type": "markdown",
            "metadata": {},
            "source": "YOUR ANSWER HERE"
        },
        {
            "cell_type": "code",
            "execution_count": null,
            "metadata": {},
            "outputs": [],
            "source": "### YOUR CODE HERE\n\n\n"
        },
        {
            "cell_type": "markdown",
            "metadata": {},
            "source": "### QUESTION 6\n\nFor all of the $p$-values obtained apply the Bonferroni and at least one other correction for multiple hypothesis tests.  Then comment on the results."
        },
        {
            "cell_type": "code",
            "execution_count": null,
            "metadata": {},
            "outputs": [],
            "source": "### YOUR CODE HERE\n\n\n"
        },
        {
            "cell_type": "markdown",
            "metadata": {},
            "source": "## Additional Approaches \n\nThere is an [allpairtest function in statsmodels](http://www.statsmodels.org/devel/generated/generated/statsmodels.sandbox.stats.multicomp.MultiComparison.allpairtest.html#statsmodels.sandbox.stats.multicomp.MultiComparison.allpairtest) that could be used here to combine the work from QUESTION 5 and QUESTION 6.\n\nGeneralized Linear Models (GLMs) are an appropriate tool to use here if we wanted to include the results of the tournament (maybe a ratio of wins/losses weighted by the final position in the tournament).  `statsmodels` supports [R-style formulas to fit generalized linear models](https://www.statsmodels.org/stable/examples/notebooks/generated/glm_formula.html). One additional variant of GLMs are hierarchical or multilevel models that provide even more insight into this types of dataset.  See the [tutorial on multilevel modeling](https://docs.pymc.io/notebooks/multilevel_modeling.html)."
        }
    ],
    "metadata": {
        "kernelspec": {
            "display_name": "Python 3.6",
            "language": "python",
            "name": "python3"
        },
        "language_info": {
            "codemirror_mode": {
                "name": "ipython",
                "version": 3
            },
            "file_extension": ".py",
            "mimetype": "text/x-python",
            "name": "python",
            "nbconvert_exporter": "python",
            "pygments_lexer": "ipython3",
            "version": "3.6.9"
        }
    },
    "nbformat": 4,
    "nbformat_minor": 4
}